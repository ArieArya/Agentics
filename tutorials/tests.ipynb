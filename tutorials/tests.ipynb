{
 "cells": [
  {
   "cell_type": "markdown",
   "id": "ac25a395",
   "metadata": {},
   "source": [
    "# Agentics Mini Tutorial\n",
    "\n",
    "Agentics provides the implementation of **AG**, a powerful datatype that connects\n",
    "LLMs to Pydantic objects and enables **logical transduction**.\n",
    "\n",
    "---\n",
    "\n",
    "## Installation\n",
    "\n",
    "```bash\n",
    "!uv pip install agentics-py"
   ]
  },
  {
   "cell_type": "code",
   "execution_count": 1,
   "id": "dfb79bd4",
   "metadata": {},
   "outputs": [
    {
     "name": "stdout",
     "output_type": "stream",
     "text": [
      "\u001b[2mUsing Python 3.12.9 environment at: /Users/gliozzo/Code/agentics911/agentics/.venv\u001b[0m\n",
      "\u001b[2mAudited \u001b[1m1 package\u001b[0m \u001b[2min 16ms\u001b[0m\u001b[0m\n",
      "\u001b[2mUsing Python 3.12.9 environment at: /Users/gliozzo/Code/agentics911/agentics/.venv\u001b[0m\n",
      "\u001b[2mAudited \u001b[1m1 package\u001b[0m \u001b[2min 13ms\u001b[0m\u001b[0m\n",
      "In Colab: False\n"
     ]
    }
   ],
   "source": [
    "! uv pip install agentics-py\n",
    "\n",
    "! uv pip install agentics-py\n",
    "\n",
    "\n",
    "import os\n",
    "from pathlib import Path\n",
    "import sys\n",
    "from getpass import getpass\n",
    "\n",
    "from dotenv import find_dotenv, load_dotenv\n",
    "\n",
    "CURRENT_PATH = \"\"\n",
    "\n",
    "IN_COLAB = \"google.colab\" in sys.modules\n",
    "print(\"In Colab:\", IN_COLAB)\n",
    "\n",
    "\n",
    "if IN_COLAB:\n",
    "    CURRENT_PATH = \"/content/drive/MyDrive/\"\n",
    "    # Mount your google drive\n",
    "    from google.colab import drive\n",
    "  \n",
    "    drive.mount(\"/content/drive\")\n",
    "    from google.colab import userdata\n",
    "    \n",
    "    os.environ[\"GEMINI_API_KEY\"] = getpass(\"Enter your GEMINI_API_KEY:\")\n",
    "else:\n",
    "\n",
    "    CURRENT_PATH = os.getcwd()\n",
    "    load_dotenv(find_dotenv())\n",
    "\n",
    "if not os.getenv(\"GEMINI_API_KEY\"):\n",
    "    os.environ[\"GEMINI_API_KEY\"] = getpass(\"Enter your GEMINI_API_KEY:\")\n",
    "\n",
    "base = Path(CURRENT_PATH)"
   ]
  },
  {
   "cell_type": "markdown",
   "id": "b8341824",
   "metadata": {},
   "source": [
    "## Use Agentics as Lists\n",
    "\n",
    "Agentics objects (`AG`) can be used similarly to Python lists, allowing you to store and manage collections of states. You can append new elements using the `.append()` method, and access all states via the `.states` attribute.\n",
    "\n",
    "For example, after creating an empty `AG` object, you can add elements:"
   ]
  },
  {
   "cell_type": "code",
   "execution_count": 2,
   "id": "dda356ed",
   "metadata": {},
   "outputs": [
    {
     "name": "stderr",
     "output_type": "stream",
     "text": [
      "2025-10-02 15:43:45.672 | DEBUG    | agentics.core.llm_connections:get_llm_provider:30 - Available LLM providers: ['watsonx', 'gemini', 'openai']. None specified, defaulting to 'watsonx'\n"
     ]
    },
    {
     "name": "stdout",
     "output_type": "stream",
     "text": [
      "The agentics is empty : 0\n",
      "The agentics now has more instances : 3\n",
      "this triggers an error\n",
      "This is the right way to concetenate two agentics. Be careful, the states should be instances of the same atype\n",
      "Atype : None\n",
      "Alfio\n",
      "...\n",
      "\n",
      "Naweed\n",
      "...\n",
      "\n",
      "Junkyuu\n",
      "...\n",
      "\n",
      "Alfio\n",
      "...\n",
      "\n",
      "Naweed\n",
      "...\n",
      "\n",
      "Junkyuu\n",
      "...\n",
      "\n",
      "\n",
      "Iterating over agentics:\n",
      "Alfio\n",
      "Naweed\n",
      "Junkyuu\n",
      "Alfio\n",
      "Naweed\n",
      "Junkyuu\n",
      "Be careful, the AG itself is not a list : atype=None crew_prompt_params={'role': 'Task Executor', 'goal': 'You execute tasks', 'backstory': 'You are always faithful and provide only fact based answers.', 'expected_output': 'Described by Pydantic Type'} instructions='Generate an object of the specified type from the following input.' llm=<crewai.llm.LLM object at 0x152adcc80> max_iter=3 prompt_template=None reasoning=None skip_intentional_definition=False states=['Alfio', 'Naweed', 'Junkyuu', 'Alfio', 'Naweed', 'Junkyuu'] tools=None transduce_fields=None transduction_logs_path=None transduction_timeout=None verbose_transduction=True verbose_agent=False\n"
     ]
    }
   ],
   "source": [
    "from agentics import AG\n",
    "my_first_agentics = AG()\n",
    "\n",
    "print(\"The agentics is empty :\", len(my_first_agentics))\n",
    "\n",
    " ## Add elements to the list\n",
    "my_first_agentics.append(\"Alfio\")\n",
    "## internally, agentics stores the elements in the attribute states\n",
    "my_first_agentics.states += [\"Naweed\" , \"Junkyuu\"] \n",
    "\n",
    "print(\"The agentics now has more instances :\",len(my_first_agentics))\n",
    "\n",
    "try:\n",
    "    print(\"this triggers an error\")\n",
    "    my_first_agentics = my_first_agentics + my_first_agentics\n",
    "except:\n",
    "    my_first_agentics.states= my_first_agentics.states + my_first_agentics.states\n",
    "    print(\"This is the right way to concetenate two agentics. Be careful, the states should be instances of the same atype\")\n",
    "    my_first_agentics.pretty_print()\n",
    "\n",
    "print(\"Iterating over agentics:\") \n",
    "for state in  my_first_agentics:\n",
    "    print(state)\n",
    "\n",
    "print(\"Be careful, the AG itself is not a list :\" , my_first_agentics) \n",
    "\n"
   ]
  },
  {
   "cell_type": "markdown",
   "id": "334b3dbd",
   "metadata": {},
   "source": [
    "## Atypes\n",
    "\n",
    "Agentics supports **typed AGs** using Pydantic models, enabling you to enforce schema validation and structure on the states stored in an AG. This is useful when you want all elements in your AG to follow a specific format or contain certain fields.\n",
    "\n",
    "To define a typed AG:\n",
    "\n",
    "1. **Create a Pydantic model** that describes the schema for your states.\n",
    "2. **Instantiate an AG** with the `atype` parameter set to your Pydantic model.\n",
    "3. **Add instances** of your model to the AG. Only objects matching the schema will be accepted.\n",
    "\n",
    "This approach ensures data consistency and allows you to leverage Pydantic's validation features within Agentics workflows.\n",
    "\n",
    "For example, you can define a `Movie` type and create an AG that only accepts `Movie` instances as its states. See the next cell for a practical demonstration."
   ]
  },
  {
   "cell_type": "code",
   "execution_count": 3,
   "id": "51bc332c",
   "metadata": {},
   "outputs": [
    {
     "name": "stderr",
     "output_type": "stream",
     "text": [
      "2025-10-02 15:43:45.676 | DEBUG    | agentics.core.llm_connections:get_llm_provider:30 - Available LLM providers: ['watsonx', 'gemini', 'openai']. None specified, defaulting to 'watsonx'\n"
     ]
    },
    {
     "name": "stdout",
     "output_type": "stream",
     "text": [
      "Atype : <class '__main__.Movie'>\n",
      "movie_name: La dolce vita\n",
      "genre: null\n",
      "description: null\n",
      "\n",
      "\n"
     ]
    },
    {
     "data": {
      "text/plain": [
       "\"Atype : <class '__main__.Movie'>\\nmovie_name: La dolce vita\\ngenre: null\\ndescription: null\\n\\n\""
      ]
     },
     "execution_count": 3,
     "metadata": {},
     "output_type": "execute_result"
    }
   ],
   "source": [
    "from pydantic import BaseModel\n",
    "from typing import Optional\n",
    "\n",
    "# Define the Movie Pydantic model for use with Agentics AG\n",
    "class Movie(BaseModel):\n",
    "    movie_name: Optional[str] = None\n",
    "    genre: Optional[str] = None\n",
    "    description: Optional[str] = None\n",
    "\n",
    "\n",
    "movies = AG(atype=Movie)\n",
    "movies.append(Movie(movie_name=\"La dolce vita\"))\n",
    "movies.pretty_print()"
   ]
  },
  {
   "cell_type": "markdown",
   "id": "86058b3e",
   "metadata": {},
   "source": [
    "## Extending and Merging AGs\n",
    "AGs can evolve by adding new fields or combining with other AGs to form richer schemas.\n",
    "\n",
    "### Add attributes\n",
    "Use `.add_attribute()` to dynamically extend the schema of an AG.  \n",
    "This operation mutates the AG in place."
   ]
  },
  {
   "cell_type": "code",
   "execution_count": 4,
   "id": "93272247",
   "metadata": {},
   "outputs": [
    {
     "name": "stderr",
     "output_type": "stream",
     "text": [
      "2025-10-02 15:43:45.682 | DEBUG    | agentics.core.llm_connections:get_llm_provider:30 - Available LLM providers: ['watsonx', 'gemini', 'openai']. None specified, defaulting to 'watsonx'\n"
     ]
    },
    {
     "name": "stdout",
     "output_type": "stream",
     "text": [
      "Atype : <class '__main__.Movie'>\n",
      "movie_name: La dolce vita\n",
      "genre: null\n",
      "description: null\n",
      "\n",
      "\n",
      "adding a new attribute to the type and rebinding the object\n",
      "Atype : <class 'agentics.core.agentics.Movie_extended'>\n",
      "movie_name: La dolce vita\n",
      "genre: null\n",
      "description: null\n",
      "email: null\n",
      "\n",
      "\n",
      "Note that the AG changed\n"
     ]
    }
   ],
   "source": [
    "movies = AG(atype=Movie)\n",
    "movies.append(Movie(movie_name=\"La dolce vita\"))\n",
    "movies.pretty_print()\n",
    "\n",
    "print(\"adding a new attribute to the type and rebinding the object\")\n",
    "movies = movies.add_attribute(\"email\", \n",
    "                     description=\"Write an email to tell a fried about this movie\",\n",
    "                     slot_type=Optional[str])\n",
    "\n",
    "movies.pretty_print()\n",
    "print(\"Note that the AG changed\")\n"
   ]
  },
  {
   "cell_type": "markdown",
   "id": "fccb667d",
   "metadata": {},
   "source": [
    "### Subtypes\n",
    "You can project an AG onto a subset of its fields, e.g. `movies(\"title\", \"genre\")`.  \n",
    "This creates a new AG without modifying the original."
   ]
  },
  {
   "cell_type": "code",
   "execution_count": 5,
   "id": "e824689b",
   "metadata": {},
   "outputs": [
    {
     "name": "stdout",
     "output_type": "stream",
     "text": [
      "This is a subtype\n",
      "Atype : <class 'agentics.core.agentics.movie_name_genre'>\n",
      "movie_name: La dolce vita\n",
      "genre: null\n",
      "\n",
      "\n",
      "This is the original type.\n",
      "Note that the AG didn't change after subtype\n",
      "Atype : <class 'agentics.core.agentics.Movie_extended'>\n",
      "movie_name: La dolce vita\n",
      "genre: null\n",
      "description: null\n",
      "email: null\n",
      "\n",
      "\n",
      "Note that the AG didn't change after subtyping it\n"
     ]
    }
   ],
   "source": [
    "movies_subtype = movies(\"movie_name\", \"genre\")\n",
    "print(\"This is a subtype\")\n",
    "movies_subtype.pretty_print()\n",
    "\n",
    "print(\"This is the original type.\\nNote that the AG didn't change after subtype\")\n",
    "movies.pretty_print()\n",
    "print(\"Note that the AG didn't change after subtyping it\")"
   ]
  },
  {
   "cell_type": "markdown",
   "id": "878bc43f",
   "metadata": {},
   "source": [
    "### Merge AGs\n",
    "You can merge AGs of different types (e.g., `Movie` with `Director`), combining their states into a new AG with a union of fields.  \n",
    "On field conflicts, values from the right-hand AG’s states take precedence."
   ]
  },
  {
   "cell_type": "code",
   "execution_count": 6,
   "id": "e1cdc248",
   "metadata": {},
   "outputs": [
    {
     "name": "stderr",
     "output_type": "stream",
     "text": [
      "2025-10-02 15:43:45.692 | DEBUG    | agentics.core.llm_connections:get_llm_provider:30 - Available LLM providers: ['watsonx', 'gemini', 'openai']. None specified, defaulting to 'watsonx'\n",
      "2025-10-02 15:43:45.693 | DEBUG    | agentics.core.llm_connections:get_llm_provider:30 - Available LLM providers: ['watsonx', 'gemini', 'openai']. None specified, defaulting to 'watsonx'\n",
      "2025-10-02 15:43:45.693 | DEBUG    | agentics.core.llm_connections:get_llm_provider:30 - Available LLM providers: ['watsonx', 'gemini', 'openai']. None specified, defaulting to 'watsonx'\n",
      "2025-10-02 15:43:45.694 | DEBUG    | agentics.core.llm_connections:get_llm_provider:30 - Available LLM providers: ['watsonx', 'gemini', 'openai']. None specified, defaulting to 'watsonx'\n",
      "2025-10-02 15:43:45.695 | DEBUG    | agentics.core.llm_connections:get_llm_provider:30 - Available LLM providers: ['watsonx', 'gemini', 'openai']. None specified, defaulting to 'watsonx'\n",
      "2025-10-02 15:43:45.695 | DEBUG    | agentics.core.llm_connections:get_llm_provider:30 - Available LLM providers: ['watsonx', 'gemini', 'openai']. None specified, defaulting to 'watsonx'\n"
     ]
    },
    {
     "name": "stdout",
     "output_type": "stream",
     "text": [
      "Merging AGs will combine states:\n",
      "Atype : <class 'agentics.core.agentics.Movie_extended__merge__Director'>\n",
      "movie_name: La dolce vita\n",
      "genre: null\n",
      "description: null\n",
      "email: null\n",
      "director_name: Fellini\n",
      "\n",
      "movie_name: Superman\n",
      "genre: null\n",
      "description: null\n",
      "email: null\n",
      "director_name: null\n",
      "\n",
      "\n",
      "Atype : <class 'agentics.core.agentics.Movie_extended__merge__Director'>\n",
      "movie_name: La dolce vita\n",
      "genre: null\n",
      "description: null\n",
      "email: null\n",
      "director_name: Fellini\n",
      "\n",
      "movie_name: Superman\n",
      "genre: null\n",
      "description: null\n",
      "email: null\n",
      "director_name: Donner\n",
      "\n",
      "\n"
     ]
    },
    {
     "data": {
      "text/plain": [
       "\"Atype : <class 'agentics.core.agentics.Movie_extended__merge__Director'>\\nmovie_name: La dolce vita\\ngenre: null\\ndescription: null\\nemail: null\\ndirector_name: Fellini\\n\\nmovie_name: Superman\\ngenre: null\\ndescription: null\\nemail: null\\ndirector_name: Donner\\n\\n\""
      ]
     },
     "execution_count": 6,
     "metadata": {},
     "output_type": "execute_result"
    }
   ],
   "source": [
    "# Define a new Pydantic type for directors\n",
    "class Director(BaseModel):\n",
    "    director_name: Optional[str] = None\n",
    "\n",
    "# Merge movies (Movie type) with directors (Director type)\n",
    "# The result AG will have fields from both Movie and Director\n",
    "prod_movies = movies.merge(\n",
    "    AG(atype=Director, states=[Director(director_name=\"Fellini\")])\n",
    ")\n",
    "\n",
    "# Add another movie to the original AG\n",
    "movies.append(Movie(movie_name=\"Superman\"))\n",
    "\n",
    "print(\"Merging AGs will combine states:\")\n",
    "\n",
    "# Merge with one director state; the single director is aligned with each movie\n",
    "movies.merge(\n",
    "    AG(atype=Director, states=[Director(director_name=\"Fellini\")])\n",
    ").pretty_print()\n",
    "\n",
    "# Merge with two director states; directors are aligned by index with movies\n",
    "# If the AGs are different lengths, extra states are still included\n",
    "movies.merge(\n",
    "    AG(atype=Director, states=[\n",
    "        Director(director_name=\"Fellini\"),\n",
    "        Director(director_name=\"Donner\")\n",
    "    ])\n",
    ").pretty_print()"
   ]
  },
  {
   "cell_type": "markdown",
   "id": "e103fc4e",
   "metadata": {},
   "source": [
    "## Logical Transduction\n",
    "\n",
    "Once an AG is initialized with an atype, Agentics can **transduce** any string of text and/or pydantic object into that type.  If a list of strings is provided, they are processed asynchronously."
   ]
  },
  {
   "cell_type": "markdown",
   "id": "49d199ab",
   "metadata": {},
   "source": [
    "## Untyped transduction\n",
    "\n",
    "If no target atype is provided, transduction works as a regular llm call, where the input text or pydantic object is given to the LLM and the output is the LLM response. In this use case, agentics provides an off the shelp **async scale-out framework for LLM calls**. \n",
    "\n",
    "Note that no AType is specified, the output of transduction is alist of strings. So it is not recommended to use this notation for transduction algebra. In addition, Unconstrained trnasduction tends to me less efficient as it requires the LLM to guess the type of output required, often resulting in verbose and unecessary information . "
   ]
  },
  {
   "cell_type": "code",
   "execution_count": 7,
   "id": "926e741f",
   "metadata": {},
   "outputs": [
    {
     "name": "stderr",
     "output_type": "stream",
     "text": [
      "2025-10-02 15:43:45.700 | DEBUG    | agentics.core.llm_connections:get_llm_provider:30 - Available LLM providers: ['watsonx', 'gemini', 'openai']. None specified, defaulting to 'watsonx'\n",
      "2025-10-02 15:43:45.700 | DEBUG    | agentics.core.llm_connections:get_llm_provider:30 - Available LLM providers: ['watsonx', 'gemini', 'openai']. None specified, defaulting to 'watsonx'\n"
     ]
    },
    {
     "data": {
      "application/vnd.jupyter.widget-view+json": {
       "model_id": "c5d35ffb89804dea89a99e535bc2d3c0",
       "version_major": 2,
       "version_minor": 0
      },
      "text/plain": [
       "Output()"
      ]
     },
     "metadata": {},
     "output_type": "display_data"
    },
    {
     "data": {
      "text/html": [
       "<pre style=\"white-space:pre;overflow-x:auto;line-height:normal;font-family:Menlo,'DejaVu Sans Mono',consolas,'Courier New',monospace\"></pre>\n"
      ],
      "text/plain": []
     },
     "metadata": {},
     "output_type": "display_data"
    },
    {
     "name": "stdout",
     "output_type": "stream",
     "text": [
      "Question: What are the benefits of using Agentic AI for data workflows?\n",
      "Answer**Agentic AI**—AI systems that act autonomously as “agents” to plan, execute, and adapt tasks—has become a game‑changer for data‑centric workflows. Below are the key benefits it brings to the entire data pipeline, from ingestion to insight delivery.\n",
      "\n",
      "---\n",
      "\n",
      "## 1. End‑to‑End Automation\n",
      "| Stage | Traditional Approach | Agentic AI Advantage |\n",
      "|-------|----------------------|----------------------|\n",
      "| **Ingestion** | Manual ETL scripts, scheduled jobs, ad‑hoc fixes | Agents discover new data sources, negotiate API credentials, and spin up connectors on the fly. |\n",
      "| **Cleaning & Transformation** | Fixed pipelines, hard‑coded rules, frequent re‑runs | Agents detect schema drift, suggest/apply transformations, and self‑heal broken steps without human intervention. |\n",
      "| **Modeling & Analysis** | Data scientists manually select features, tune hyper‑parameters | Agents run AutoML loops, experiment with feature engineering, and select the best model based on business KPIs. |\n",
      "| **Deployment & Monitoring** | Manual CI/CD pipelines, static alerts | Agents orchestrate model rollout, monitor drift, and trigger retraining or rollback automatically. |\n",
      "| **Reporting & Action** | Static dashboards, manual alerts | Agents generate contextual narratives, push insights to downstream systems (e.g., CRM, ERP), and even take corrective actions (e.g., inventory reorder). |\n",
      "\n",
      "**Result:** A single “data‑agent” can shepherd a dataset from raw ingestion to actionable insight without a human having to stitch together dozens of scripts.\n",
      "\n",
      "---\n",
      "\n",
      "## 2. Adaptive Decision‑Making\n",
      "- **Context awareness:** Agents maintain a knowledge graph of data assets, business rules, and past outcomes, allowing them to choose the most appropriate processing path for each new dataset.\n",
      "- **Dynamic optimization:** They continuously evaluate cost‑vs‑accuracy trade‑offs (e.g., sampling vs. full‑scan) and re‑allocate compute resources in real time.\n",
      "- **Self‑learning:** Feedback loops (e.g., user corrections, downstream performance metrics) are fed back into the agent’s policy, improving future decisions.\n",
      "\n",
      "---\n",
      "\n",
      "## 3. Faster Time‑to‑Insight\n",
      "- **Parallel exploration:** Multiple agents can run concurrent experiments (different feature sets, model families) and converge on the best solution in minutes rather than days.\n",
      "- **Instant narrative generation:** Natural‑language agents translate raw model outputs into executive‑ready summaries, eliminating the “data‑to‑story” bottleneck.\n",
      "- **Proactive alerts:** Agents detect anomalies or emerging trends and push notifications before a human even looks at the dashboard.\n",
      "\n",
      "---\n",
      "\n",
      "## 4. Reduced Human Error & Technical Debt\n",
      "- **Rule enforcement:** Agents codify governance policies (PII masking, data lineage, compliance checks) and enforce them consistently.\n",
      "- **Version control:** Every transformation, model, and configuration is automatically versioned and linked to the agent’s execution log, making rollbacks trivial.\n",
      "- **Self‑healing:** When a step fails (e.g., a source API changes), the agent can automatically discover the new schema, adjust the pipeline, and resume processing.\n",
      "\n",
      "---\n",
      "\n",
      "## 5. Scalability & Resource Efficiency\n",
      "- **Elastic orchestration:** Agents spin up containers, serverless functions, or Spark jobs only when needed, then shut them down, keeping cloud spend low.\n",
      "- **Load‑balancing across teams:** Multiple teams can share a pool of agents that prioritize tasks based on business impact, avoiding duplicated pipelines.\n",
      "- **Multi‑tenant safety:** Agents enforce isolation (e.g., data‑domain boundaries) while still allowing cross‑domain insights where permitted.\n",
      "\n",
      "---\n",
      "\n",
      "## 6. Enhanced Collaboration & Transparency\n",
      "- **Explainable actions:** Agents log *why* they chose a particular transformation or model (e.g., “selected XGBoost because it minimized MAPE on last 30 days”). These logs can be surfaced in audit dashboards.\n",
      "- **Human‑in‑the‑loop:** When confidence is low, agents ask for clarification (“Should we treat this outlier as a data error or a genuine spike?”), turning automation into a collaborative partner.\n",
      "- **Knowledge capture:** The agent’s accumulated experience becomes a reusable “data‑ops playbook” for new projects or onboarding.\n",
      "\n",
      "---\n",
      "\n",
      "## 7. Business‑Level Benefits\n",
      "| Benefit | Impact |\n",
      "|---------|--------|\n",
      "| **Speed** | Faster product releases, quicker market response. |\n",
      "| **Cost** | Lower engineering overhead, optimized compute usage. |\n",
      "| **Quality** | Consistent data quality, fewer downstream errors. |\n",
      "| **Compliance** | Automated governance reduces audit risk. |\n",
      "| **Innovation** | Data scientists spend more time on\n",
      "\n",
      "Question: Will AI improve working conditions for the middle class?\n",
      "Answer**Short answer:** Yes, AI has the potential to improve working conditions for many middle‑class workers, but whether that potential is realized will depend on how the technology is deployed, how societies regulate its impact, and how workers and employers adapt.\n",
      "\n",
      "Below is a more detailed look at the forces at play, the ways AI could make a positive difference, the risks that could offset those gains, and some practical steps that can help steer the outcome in a favorable direction.\n",
      "\n",
      "---\n",
      "\n",
      "## 1. How AI Can Directly Improve Working Conditions\n",
      "\n",
      "| Area | What AI Can Do | Why It Helps Middle‑Class Workers |\n",
      "|------|----------------|-----------------------------------|\n",
      "| **Automation of Repetitive Tasks** | AI‑driven software bots, document‑processing tools, and robotic process automation (RPA) can handle data entry, invoice matching, scheduling, etc. | Frees employees from tedious, error‑prone work, allowing them to focus on higher‑value activities (analysis, client interaction, creative problem‑solving). |\n",
      "| **Decision‑Support & Analytics** | AI dashboards that surface trends, forecast demand, or suggest optimal pricing. | Reduces the cognitive load of sifting through raw data, speeds up decision cycles, and improves confidence in strategic choices. |\n",
      "| **Personalized Learning & Upskilling** | Adaptive learning platforms that recommend micro‑courses based on skill gaps and career goals. | Enables continuous, on‑the‑job skill development without long, disruptive training periods. |\n",
      "| **Remote Collaboration & Productivity** | Real‑time transcription, language translation, smart meeting summarizers, and virtual assistants. | Makes remote or hybrid work smoother, especially for roles that involve cross‑regional coordination. |\n",
      "| **Health & Safety Monitoring** | Wearable sensors and computer‑vision systems that detect fatigue, ergonomic strain, or unsafe conditions. | Directly reduces physical injury risk and can trigger timely interventions. |\n",
      "| **Flexible Scheduling** | AI‑driven workforce management tools that match staffing levels to demand while respecting employee preferences. | Improves work‑life balance by aligning shifts with personal constraints (e.g., childcare, education). |\n",
      "\n",
      "---\n",
      "\n",
      "## 2. Indirect Benefits: Economic and Societal Ripple Effects\n",
      "\n",
      "1. **Higher Productivity → Higher Wages (Potentially)**  \n",
      "   If AI lifts overall productivity, firms may have more profit to share with employees through wage growth, bonuses, or profit‑sharing schemes.\n",
      "\n",
      "2. **Creation of New “Middle‑Skill” Jobs**  \n",
      "   Roles such as AI‑augmented analysts, data curators, and AI‑system trainers often require a blend of domain knowledge and technical fluency—exactly the skill set many middle‑class workers already possess.\n",
      "\n",
      "3. **Reduced Cost of Services**  \n",
      "   AI can lower the price of services (e.g., banking, insurance, legal advice). Lower consumer costs can increase disposable income for middle‑class households.\n",
      "\n",
      "4. **Improved Public Services**  \n",
      "   Government use of AI for traffic management, healthcare triage, and education can raise the overall quality of life, indirectly benefiting workers.\n",
      "\n",
      "---\n",
      "\n",
      "## 3. Risks and Challenges That Could Undermine Those Gains\n",
      "\n",
      "| Risk | How It Affects Middle‑Class Workers | Mitigation Levers |\n",
      "|------|--------------------------------------|-------------------|\n",
      "| **Job Displacement in Certain Occupations** | Roles heavily based on routine tasks (e.g., clerical, basic accounting) may shrink. | Targeted reskilling programs, transition assistance, and policies that encourage “human‑in‑the‑loop” designs. |\n",
      "| **Wage Polarization** | If AI benefits are captured mainly by high‑skill or capital‑owning groups, middle‑class wages could stagnate. | Strengthen collective bargaining, enforce fair‑pay standards, and promote profit‑sharing. |\n",
      "| **Increased Surveillance & Burnout** | AI monitoring tools can be misused to enforce constant availability or micro‑manage performance. | Clear privacy regulations, employee‑governed data policies, and cultural norms that respect downtime. |\n",
      "| **Skill Gap Acceleration** | Rapid AI adoption may outpace the speed of upskilling, leaving some workers behind. | Government‑funded lifelong‑learning credits, employer‑sponsored micro‑credential pathways, and industry standards for “AI literacy.” |\n",
      "| **Unequal Access to AI Tools** | Smaller firms may lack resources to implement AI, creating a competitive disadvantage for their employees. | Public‑sector AI platforms, shared‑service models, and open‑source AI toolkits. |\n",
      "\n",
      "---\n",
      "\n",
      "## 4. Policy & Organizational Strategies to Maximize Positive Outcomes\n",
      "\n",
      "1. **Invest in Continuous\n",
      "\n",
      "Question: How can Agentic AI enhance decision-making in finance?\n",
      "Answer## Agentic AI — What It Is\n",
      "\n",
      "**Agentic AI** (sometimes called “autonomous AI agents”) are software entities that can:\n",
      "\n",
      "| Capability | What It Means for Finance |\n",
      "|------------|---------------------------|\n",
      "| **Goal‑oriented planning** | Define a financial objective (e.g., “reduce portfolio volatility by 10 %”) and generate a multi‑step plan to achieve it. |\n",
      "| **Tool‑use & integration** | Call APIs, pull market data, execute trades, query internal risk‑systems, or generate reports without human prompting. |\n",
      "| **Iterative reasoning & self‑correction** | Run simulations, evaluate outcomes, and adjust the plan on the fly (e.g., re‑balancing a portfolio when market conditions shift). |\n",
      "| **Memory & context** | Retain relevant historical data (past trades, client preferences, regulatory constraints) across sessions. |\n",
      "| **Human‑in‑the‑loop control** | Offer suggestions, request approvals, and explain rationales, keeping ultimate authority with the decision‑maker. |\n",
      "\n",
      "When these capabilities are combined with large‑language‑model (LLM) reasoning, the result is an AI “assistant” that can **act** on its own—within defined guardrails—rather than merely answering questions.\n",
      "\n",
      "---\n",
      "\n",
      "## How Agentic AI Improves Decision‑Making in Finance\n",
      "\n",
      "### 1. **Data‑Driven Insight Generation**\n",
      "| Use‑case | Agentic AI workflow | Value |\n",
      "|----------|--------------------|-------|\n",
      "| **Macro‑economic forecasting** | Pull real‑time macro data (GDP, CPI, PMI), run econometric models, and synthesize a narrative outlook. | Faster, more comprehensive scenario analysis. |\n",
      "| **Alternative data mining** | Scrape news, social‑media sentiment, satellite imagery, and translate them into quantitative signals. | Uncovers hidden alpha sources. |\n",
      "| **Risk factor discovery** | Continuously monitor market, credit, and operational risk metrics; flag emerging correlations. | Early warning of systemic risk. |\n",
      "\n",
      "### 2. **Portfolio Construction & Rebalancing**\n",
      "1. **Goal definition** – “Target 8 % annualized return with max 12 % drawdown.”\n",
      "2. **Constraint ingestion** – Regulatory limits, ESG scores, liquidity caps.\n",
      "3. **Optimization loop** – Agent runs a mean‑variance, Black‑Litterman, or reinforcement‑learning optimizer, evaluates the result, and iterates until constraints are satisfied.\n",
      "4. **Execution plan** – Generates a trade‑list, estimates market impact, and routes orders via broker APIs.\n",
      "5. **Human review** – Presents a concise “decision memo” with risk/return trade‑offs and justification.\n",
      "\n",
      "*Result:* **Consistent, data‑rich portfolios** built in minutes rather than days, with transparent rationale.\n",
      "\n",
      "### 3. **Real‑Time Trade Decision Support**\n",
      "- **Signal validation:** Agent cross‑checks a trading signal against multiple data sources (order‑book depth, news, macro events) before recommending execution.\n",
      "- **Dynamic slippage modeling:** Continuously updates expected transaction costs as market conditions evolve.\n",
      "- **Adaptive stop‑loss/take‑profit placement:** Adjusts levels based on volatility regime changes detected in real time.\n",
      "\n",
      "### 4. **Credit & Underwriting Automation**\n",
      "| Step | Agentic AI Action |\n",
      "|------|-------------------|\n",
      "| **Data collection** | Pull borrower financials, payment history, public filings, and alternative data (e.g., utility payments). |\n",
      "| **Risk modeling** | Run a credit‑scoring model, then simulate stress scenarios (interest‑rate hikes, sector downturns). |\n",
      "| **Decision memo** | Summarize probability of default, expected loss, and recommended credit limit. |\n",
      "| **Compliance check** | Verify against internal policy and regulatory caps (e.g., Basel III). |\n",
      "| **Approval workflow** | Route to a human underwriter with a “yes/no + comments” UI. |\n",
      "\n",
      "*Benefit:* **Higher throughput, consistent scoring, and reduced bias** while keeping a human final sign‑off.\n",
      "\n",
      "### 5. **Regulatory & Compliance Monitoring**\n",
      "- **Rule extraction:** Agent reads new regulator guidance (PDF, HTML) and translates it into machine‑readable constraints.\n",
      "- **Transaction surveillance:** Continuously scans trade logs for patterns that violate AML/KYC or market‑manipulation rules.\n",
      "- **Audit trail generation:** Every decision step is logged with timestamps, data sources, and model versions, satisfying audit requirements.\n",
      "\n",
      "### 6. **Scenario Planning & Stress Testing**\n",
      "1. **Scenario definition** – “What if the Fed raises rates by\n",
      "\n",
      "Uncostrained transduction done in 17.055912971496582 seconds\n"
     ]
    }
   ],
   "source": [
    "import time\n",
    "\n",
    "questions = [\n",
    "    \"What are the benefits of using Agentic AI for data workflows?\",\n",
    "    \"Will AI improve working conditions for the middle class?\",\n",
    "    \"How can Agentic AI enhance decision-making in finance?\",\n",
    "    # \"What risks should companies consider when adopting AI agents?\",\n",
    "    # \"Can AG objects integrate with existing data pipelines?\",\n",
    "    # \"Who won the latest FIFA worldcup\",\n",
    "]\n",
    "start = time.time()\n",
    "answers = await (AG() << questions)\n",
    "end = time.time()\n",
    "\n",
    "for question, answer in zip(questions, answers):\n",
    "    print(f\"Question: {question}\\nAnswer{answer}\\n\")\n",
    "print(f\"Uncostrained transduction done in {end-start} seconds\")\n"
   ]
  },
  {
   "cell_type": "markdown",
   "id": "2758bd63",
   "metadata": {},
   "source": [
    "### Transduction into Atype\n",
    "\n",
    "You can define a target schema with Pydantic (e.g., `Answer`) and transduce text into it.  \n",
    "The LLM output is parsed and validated into the fields `answer`, `justification`, and `confidence`.  \n",
    "Note that the output is more clean and organized, and the time required to execute the transduction is one order of magnitude lower. "
   ]
  },
  {
   "cell_type": "code",
   "execution_count": 8,
   "id": "e223405c",
   "metadata": {},
   "outputs": [
    {
     "name": "stderr",
     "output_type": "stream",
     "text": [
      "2025-10-02 15:44:02.769 | DEBUG    | agentics.core.llm_connections:get_llm_provider:30 - Available LLM providers: ['watsonx', 'gemini', 'openai']. None specified, defaulting to 'watsonx'\n"
     ]
    },
    {
     "data": {
      "application/vnd.jupyter.widget-view+json": {
       "model_id": "96240545100646648e5e770328c7f1a2",
       "version_major": 2,
       "version_minor": 0
      },
      "text/plain": [
       "Output()"
      ]
     },
     "metadata": {},
     "output_type": "display_data"
    },
    {
     "data": {
      "text/html": [
       "<pre style=\"white-space:pre;overflow-x:auto;line-height:normal;font-family:Menlo,'DejaVu Sans Mono',consolas,'Courier New',monospace\"></pre>\n"
      ],
      "text/plain": []
     },
     "metadata": {},
     "output_type": "display_data"
    },
    {
     "name": "stdout",
     "output_type": "stream",
     "text": [
      "Typed transduction done in 2.6224420070648193 seconds\n",
      "Atype : <class '__main__.Answer'>\n",
      "answer: \"Agentic AI brings several key benefits to data workflows: it automates repetitive\\\n",
      "  \\ tasks, reduces manual effort, and accelerates data processing; it adapts dynamically\\\n",
      "  \\ to changing data patterns, enabling more flexible and resilient pipelines; it\\\n",
      "  \\ scales efficiently across large datasets and complex operations; it improves accuracy\\\n",
      "  \\ and consistency by minimizing human error; it provides faster, actionable insights\\\n",
      "  \\ through real\\u2011time analysis and decision\\u2011making; and it continuously\\\n",
      "  \\ learns from new data, enhancing performance over time.\"\n",
      "justification: \"Automation cuts down on labor\\u2011intensive steps, while adaptability\\\n",
      "  \\ ensures the system can handle evolving data sources and requirements. Scalability\\\n",
      "  \\ allows the same framework to handle growing volumes without redesign. Accuracy\\\n",
      "  \\ improves because AI models apply consistent logic, and real\\u2011time capabilities\\\n",
      "  \\ shorten the feedback loop for business decisions. Continuous learning means the\\\n",
      "  \\ system gets better as more data is processed, delivering ongoing value.\"\n",
      "confidence: 0.96\n",
      "\n",
      "answer: AI has the potential to improve working conditions for the middle class, but\n",
      "  the extent of improvement will depend on how the technology is deployed, regulated,\n",
      "  and integrated into existing labor markets.\n",
      "justification: \"AI can automate repetitive and hazardous tasks, increase productivity,\\\n",
      "  \\ and enable more flexible work arrangements, which could lead to safer, less monotonous,\\\n",
      "  \\ and better\\u2011paid jobs for middle\\u2011class workers. However, without appropriate\\\n",
      "  \\ policies\\u2014such as upskilling programs, labor protections, and equitable distribution\\\n",
      "  \\ of AI benefits\\u2014there is a risk of job displacement, wage stagnation, or increased\\\n",
      "  \\ surveillance, which could negate these gains. Historical patterns of technology\\\n",
      "  \\ adoption suggest that outcomes are mixed and heavily influenced by societal choices.\"\n",
      "confidence: 0.73\n",
      "\n",
      "answer: \"Agentic AI can boost financial decision\\u2011making by autonomously gathering\\\n",
      "  \\ and synthesizing vast, real\\u2011time market data, generating and testing multiple\\\n",
      "  \\ investment scenarios, and continuously learning from outcomes to refine its strategies.\\\n",
      "  \\ Its goal\\u2011oriented architecture enables it to set objectives (e.g., risk\\u2011\\\n",
      "  adjusted return targets), plan optimal actions (such as asset allocation, trade\\\n",
      "  \\ execution, or hedging), and act without constant human oversight. This results\\\n",
      "  \\ in faster, more data\\u2011driven insights, dynamic portfolio rebalancing, proactive\\\n",
      "  \\ risk detection, and compliance monitoring, all while reducing human bias and fatigue.\"\n",
      "justification: \"The enhancement stems from Agentic AI\\u2019s ability to (1) integrate\\\n",
      "  \\ heterogeneous data sources instantly, (2) run high\\u2011frequency simulations\\\n",
      "  \\ and what\\u2011if analyses that humans cannot perform at scale, (3) apply reinforcement\\u2011\\\n",
      "  learning\\u2011based optimization to align actions with financial goals, (4) monitor\\\n",
      "  \\ regulatory changes and flag violations in real time, and (5) adapt its models\\\n",
      "  \\ as market conditions evolve, thereby delivering more accurate, timely, and objective\\\n",
      "  \\ recommendations.\"\n",
      "confidence: 0.94\n",
      "\n",
      "\n"
     ]
    },
    {
     "data": {
      "text/plain": [
       "'Atype : <class \\'__main__.Answer\\'>\\nanswer: \"Agentic AI brings several key benefits to data workflows: it automates repetitive\\\\\\n  \\\\ tasks, reduces manual effort, and accelerates data processing; it adapts dynamically\\\\\\n  \\\\ to changing data patterns, enabling more flexible and resilient pipelines; it\\\\\\n  \\\\ scales efficiently across large datasets and complex operations; it improves accuracy\\\\\\n  \\\\ and consistency by minimizing human error; it provides faster, actionable insights\\\\\\n  \\\\ through real\\\\u2011time analysis and decision\\\\u2011making; and it continuously\\\\\\n  \\\\ learns from new data, enhancing performance over time.\"\\njustification: \"Automation cuts down on labor\\\\u2011intensive steps, while adaptability\\\\\\n  \\\\ ensures the system can handle evolving data sources and requirements. Scalability\\\\\\n  \\\\ allows the same framework to handle growing volumes without redesign. Accuracy\\\\\\n  \\\\ improves because AI models apply consistent logic, and real\\\\u2011time capabilities\\\\\\n  \\\\ shorten the feedback loop for business decisions. Continuous learning means the\\\\\\n  \\\\ system gets better as more data is processed, delivering ongoing value.\"\\nconfidence: 0.96\\n\\nanswer: AI has the potential to improve working conditions for the middle class, but\\n  the extent of improvement will depend on how the technology is deployed, regulated,\\n  and integrated into existing labor markets.\\njustification: \"AI can automate repetitive and hazardous tasks, increase productivity,\\\\\\n  \\\\ and enable more flexible work arrangements, which could lead to safer, less monotonous,\\\\\\n  \\\\ and better\\\\u2011paid jobs for middle\\\\u2011class workers. However, without appropriate\\\\\\n  \\\\ policies\\\\u2014such as upskilling programs, labor protections, and equitable distribution\\\\\\n  \\\\ of AI benefits\\\\u2014there is a risk of job displacement, wage stagnation, or increased\\\\\\n  \\\\ surveillance, which could negate these gains. Historical patterns of technology\\\\\\n  \\\\ adoption suggest that outcomes are mixed and heavily influenced by societal choices.\"\\nconfidence: 0.73\\n\\nanswer: \"Agentic AI can boost financial decision\\\\u2011making by autonomously gathering\\\\\\n  \\\\ and synthesizing vast, real\\\\u2011time market data, generating and testing multiple\\\\\\n  \\\\ investment scenarios, and continuously learning from outcomes to refine its strategies.\\\\\\n  \\\\ Its goal\\\\u2011oriented architecture enables it to set objectives (e.g., risk\\\\u2011\\\\\\n  adjusted return targets), plan optimal actions (such as asset allocation, trade\\\\\\n  \\\\ execution, or hedging), and act without constant human oversight. This results\\\\\\n  \\\\ in faster, more data\\\\u2011driven insights, dynamic portfolio rebalancing, proactive\\\\\\n  \\\\ risk detection, and compliance monitoring, all while reducing human bias and fatigue.\"\\njustification: \"The enhancement stems from Agentic AI\\\\u2019s ability to (1) integrate\\\\\\n  \\\\ heterogeneous data sources instantly, (2) run high\\\\u2011frequency simulations\\\\\\n  \\\\ and what\\\\u2011if analyses that humans cannot perform at scale, (3) apply reinforcement\\\\u2011\\\\\\n  learning\\\\u2011based optimization to align actions with financial goals, (4) monitor\\\\\\n  \\\\ regulatory changes and flag violations in real time, and (5) adapt its models\\\\\\n  \\\\ as market conditions evolve, thereby delivering more accurate, timely, and objective\\\\\\n  \\\\ recommendations.\"\\nconfidence: 0.94\\n\\n'"
      ]
     },
     "execution_count": 8,
     "metadata": {},
     "output_type": "execute_result"
    }
   ],
   "source": [
    "# Define a Pydantic model for a structured answer\n",
    "class Answer(BaseModel):\n",
    "    # The main response text\n",
    "    answer: Optional[str] = None\n",
    "    # An explanation or reasoning behind the answer\n",
    "    justification: Optional[str] = None\n",
    "    # A numeric confidence score (e.g. from 0.0 to 1.0)\n",
    "    confidence: Optional[float] = None\n",
    "\n",
    "# Transduce a natural language question into the structured Answer schema\n",
    "start= time.time()\n",
    "answers = await (AG(atype=Answer) << questions)\n",
    "end= time.time()\n",
    "print(f\"Typed transduction done in {end-start} seconds\")\n",
    "answers.pretty_print()"
   ]
  },
  {
   "cell_type": "markdown",
   "id": "12651794",
   "metadata": {},
   "source": [
    "### Transduction Between AGs\n",
    "\n",
    "You can control transduction more precisely by converting **from one AG to another**:\n",
    "- The **source AG** provides the input states (rendered via the prompt).\n",
    "- The **target AG** defines the output schema and validation.\n",
    "- Agentics renders each source state → sends it to the LLM → parses into the target type.\n",
    "\n",
    "This pattern is ideal when you want consistent, structured outputs from heterogeneous inputs while keeping prompts and schema separate."
   ]
  },
  {
   "cell_type": "markdown",
   "id": "db533ce4",
   "metadata": {},
   "source": [
    "### Transduction Between AGs  \n",
    "Here we convert product reviews (`ProductReview`) into sentiment summaries (`SentimentSummary`).  \n",
    "The source AG provides the reviews, and the target AG enforces structured outputs (positive/neutral/negative with a reason).  "
   ]
  },
  {
   "cell_type": "code",
   "execution_count": 9,
   "id": "ddc0261e",
   "metadata": {},
   "outputs": [
    {
     "name": "stderr",
     "output_type": "stream",
     "text": [
      "2025-10-02 15:44:05.406 | DEBUG    | agentics.core.llm_connections:get_llm_provider:30 - Available LLM providers: ['watsonx', 'gemini', 'openai']. None specified, defaulting to 'watsonx'\n",
      "2025-10-02 15:44:05.406 | DEBUG    | agentics.core.llm_connections:get_llm_provider:30 - Available LLM providers: ['watsonx', 'gemini', 'openai']. None specified, defaulting to 'watsonx'\n"
     ]
    },
    {
     "data": {
      "application/vnd.jupyter.widget-view+json": {
       "model_id": "0929255519e2427a87ea98f52649ef55",
       "version_major": 2,
       "version_minor": 0
      },
      "text/plain": [
       "Output()"
      ]
     },
     "metadata": {},
     "output_type": "display_data"
    },
    {
     "data": {
      "text/html": [
       "<pre style=\"white-space:pre;overflow-x:auto;line-height:normal;font-family:Menlo,'DejaVu Sans Mono',consolas,'Courier New',monospace\"></pre>\n"
      ],
      "text/plain": []
     },
     "metadata": {},
     "output_type": "display_data"
    },
    {
     "name": "stdout",
     "output_type": "stream",
     "text": [
      "Atype : <class '__main__.SentimentSummary'>\n",
      "customer_sentiment: positive\n",
      "reason: Excellent quality and fast delivery!\n",
      "\n",
      "customer_sentiment: negative\n",
      "reason: Packaging was damaged\n",
      "\n",
      "customer_sentiment: negative\n",
      "reason: Terrible, broke after one use\n",
      "\n",
      "\n"
     ]
    },
    {
     "data": {
      "text/plain": [
       "\"Atype : <class '__main__.SentimentSummary'>\\ncustomer_sentiment: positive\\nreason: Excellent quality and fast delivery!\\n\\ncustomer_sentiment: negative\\nreason: Packaging was damaged\\n\\ncustomer_sentiment: negative\\nreason: Terrible, broke after one use\\n\\n\""
      ]
     },
     "execution_count": 9,
     "metadata": {},
     "output_type": "execute_result"
    }
   ],
   "source": [
    "from typing import Optional, Literal\n",
    "from pydantic import BaseModel\n",
    "from agentics import AG\n",
    "\n",
    "# Source schema: product reviews\n",
    "class ProductReview(BaseModel):\n",
    "    reviewer: Optional[str] = None\n",
    "    text: Optional[str] = None\n",
    "    stars: Optional[int] = None\n",
    "\n",
    "# Target schema: summarized sentiment\n",
    "class SentimentSummary(BaseModel):\n",
    "    customer_sentiment: Optional[Literal[\"positive\", \"neutral\", \"negative\"]] = None\n",
    "    reason: Optional[str] = None\n",
    "\n",
    "# Example reviews\n",
    "reviews = [\n",
    "    ProductReview(reviewer=\"Alice\", text=\"Excellent quality and fast delivery!\", stars=5),\n",
    "    ProductReview(reviewer=\"Bob\", text=\"Okay, but packaging was damaged\", stars=3),\n",
    "    ProductReview(reviewer=\"Carol\", text=\"Terrible, broke after one use\", stars=1),\n",
    "]\n",
    "\n",
    "# Create source and target AGs\n",
    "source = AG(atype=ProductReview, states=reviews)\n",
    "target = AG(atype=SentimentSummary)\n",
    "\n",
    "# Transduce reviews into sentiment summaries\n",
    "sentiments = await (target << source)\n",
    "sentiments.pretty_print()"
   ]
  },
  {
   "cell_type": "markdown",
   "id": "24dacd95",
   "metadata": {},
   "source": [
    "### Customizing Transduction  \n",
    "\n",
    "You can fine-tune how logical transduction works by configuring:  \n",
    "\n",
    "- **LLMs** – choose the underlying language model to run the transduction.  \n",
    "- **Instructions** – add task-specific guidance for the LLM.  \n",
    "- **Prompt Templates** – control how inputs are rendered into prompts.  \n",
    "- **Few-Shot Examples** – provide examples to steer the model’s behavior.  \n",
    "- **Verbose Options** – enable detailed logging and debug outputs.  "
   ]
  },
  {
   "cell_type": "markdown",
   "id": "35f475de",
   "metadata": {},
   "source": [
    "#### Task instructions\n",
    "The example below illustrate how to provide a llm and task specific instructions to transduction"
   ]
  },
  {
   "cell_type": "code",
   "execution_count": 10,
   "id": "e1b354b2",
   "metadata": {},
   "outputs": [
    {
     "data": {
      "application/vnd.jupyter.widget-view+json": {
       "model_id": "4940ac035100431dbc62b7e0779811d6",
       "version_major": 2,
       "version_minor": 0
      },
      "text/plain": [
       "Output()"
      ]
     },
     "metadata": {},
     "output_type": "display_data"
    },
    {
     "data": {
      "text/html": [
       "<pre style=\"white-space:pre;overflow-x:auto;line-height:normal;font-family:Menlo,'DejaVu Sans Mono',consolas,'Courier New',monospace\"></pre>\n"
      ],
      "text/plain": []
     },
     "metadata": {},
     "output_type": "display_data"
    },
    {
     "name": "stdout",
     "output_type": "stream",
     "text": [
      "Atype : <class '__main__.Answer'>\n",
      "answer: \"Agentic AI offre diversi vantaggi per i flussi di lavoro sui dati: automatizza\\\n",
      "  \\ compiti complessi riducendo l'intervento manuale; si adatta dinamicamente a nuove\\\n",
      "  \\ fonti e schemi di dati; scala facilmente con l'aumento del volume e della variet\\xE0\\\n",
      "  \\ dei dati; diminuisce gli errori umani grazie a decisioni basate su modelli predittivi;\\\n",
      "  \\ accelera il time\\u2011to\\u2011insight consentendo analisi in tempo reale; integra\\\n",
      "  \\ capacit\\xE0 semantiche per comprendere il contesto dei dati; permette decisioni\\\n",
      "  \\ autonome e ottimizzazioni operative, migliorando l'efficienza complessiva del\\\n",
      "  \\ processo di gestione dei dati.\"\n",
      "justification: \"Questi benefici derivano dalla capacit\\xE0 di Agentic AI di combinare\\\n",
      "  \\ apprendimento automatico, ragionamento basato su obiettivi (agentic) e orchestrazione\\\n",
      "  \\ di task, consentendo al sistema di gestire l'intero ciclo di vita dei dati, dalla\\\n",
      "  \\ raccolta alla trasformazione, fino all'analisi e all'azione, con minima supervisione\\\n",
      "  \\ umana.\"\n",
      "confidence: 0.96\n",
      "\n",
      "answer: \"Probabilmente s\\xEC, l'IA ha il potenziale di migliorare le condizioni di\\\n",
      "  \\ lavoro della classe media, ma il risultato dipender\\xE0 da come verr\\xE0 implementata\\\n",
      "  \\ e regolamentata.\"\n",
      "justification: \"L'automazione pu\\xF2 ridurre i compiti ripetitivi e pericolosi, aumentando\\\n",
      "  \\ la produttivit\\xE0 e permettendo ai lavoratori di concentrarsi su attivit\\xE0\\\n",
      "  \\ pi\\xF9 qualificate e gratificanti. Tuttavia, se le tecnologie non sono accompagnate\\\n",
      "  \\ da politiche di formazione, protezione sociale e redistribuzione dei benefici,\\\n",
      "  \\ potrebbero anche generare disoccupazione o precariet\\xE0. Pertanto, il miglioramento\\\n",
      "  \\ dipender\\xE0 da investimenti in riqualificazione, normative sul lavoro e distribuzione\\\n",
      "  \\ equa dei guadagni dell'IA.\"\n",
      "confidence: 0.73\n",
      "\n",
      "answer: \"L'Agentic AI pu\\xF2 migliorare il processo decisionale in ambito finanziario\\\n",
      "  \\ fornendo analisi predittive avanzate, automatizzando la valutazione di scenari\\\n",
      "  \\ complessi e suggerendo azioni ottimali basate su grandi volumi di dati in tempo\\\n",
      "  \\ reale. Grazie alla capacit\\xE0 di apprendere autonomamente e di adattarsi a nuove\\\n",
      "  \\ informazioni, pu\\xF2 identificare pattern di mercato, valutare rischi e opportunit\\xE0\\\n",
      "  , ottimizzare portafogli e supportare decisioni di investimento pi\\xF9 informate\\\n",
      "  \\ e tempestive.\"\n",
      "justification: \"Questa risposta \\xE8 dedotta dal contesto della domanda, che richiede\\\n",
      "  \\ una spiegazione su come l'Agentic AI possa potenziare le decisioni finanziarie.\\\n",
      "  \\ Si evidenziano le principali funzionalit\\xE0 dell'AI agentica (analisi predittiva,\\\n",
      "  \\ automazione, apprendimento continuo) e il loro impatto specifico sul settore finanziario\\\n",
      "  \\ (valutazione dei rischi, ottimizzazione dei portafogli, risposta in tempo reale).\"\n",
      "confidence: 0.96\n",
      "\n",
      "\n",
      "Atype : <class '__main__.Answer'>\n",
      "answer: \"Agentic AI offre diversi vantaggi per i flussi di lavoro sui dati: automatizza\\\n",
      "  \\ compiti complessi riducendo l'intervento manuale; si adatta dinamicamente a nuove\\\n",
      "  \\ fonti e schemi di dati; scala facilmente con l'aumento del volume e della variet\\xE0\\\n",
      "  \\ dei dati; diminuisce gli errori umani grazie a decisioni basate su modelli predittivi;\\\n",
      "  \\ accelera il time\\u2011to\\u2011insight consentendo analisi in tempo reale; integra\\\n",
      "  \\ capacit\\xE0 semantiche per comprendere il contesto dei dati; permette decisioni\\\n",
      "  \\ autonome e ottimizzazioni operative, migliorando l'efficienza complessiva del\\\n",
      "  \\ processo di gestione dei dati.\"\n",
      "justification: \"Questi benefici derivano dalla capacit\\xE0 di Agentic AI di combinare\\\n",
      "  \\ apprendimento automatico, ragionamento basato su obiettivi (agentic) e orchestrazione\\\n",
      "  \\ di task, consentendo al sistema di gestire l'intero ciclo di vita dei dati, dalla\\\n",
      "  \\ raccolta alla trasformazione, fino all'analisi e all'azione, con minima supervisione\\\n",
      "  \\ umana.\"\n",
      "confidence: 0.96\n",
      "\n",
      "answer: \"Probabilmente s\\xEC, l'IA ha il potenziale di migliorare le condizioni di\\\n",
      "  \\ lavoro della classe media, ma il risultato dipender\\xE0 da come verr\\xE0 implementata\\\n",
      "  \\ e regolamentata.\"\n",
      "justification: \"L'automazione pu\\xF2 ridurre i compiti ripetitivi e pericolosi, aumentando\\\n",
      "  \\ la produttivit\\xE0 e permettendo ai lavoratori di concentrarsi su attivit\\xE0\\\n",
      "  \\ pi\\xF9 qualificate e gratificanti. Tuttavia, se le tecnologie non sono accompagnate\\\n",
      "  \\ da politiche di formazione, protezione sociale e redistribuzione dei benefici,\\\n",
      "  \\ potrebbero anche generare disoccupazione o precariet\\xE0. Pertanto, il miglioramento\\\n",
      "  \\ dipender\\xE0 da investimenti in riqualificazione, normative sul lavoro e distribuzione\\\n",
      "  \\ equa dei guadagni dell'IA.\"\n",
      "confidence: 0.73\n",
      "\n",
      "answer: \"L'Agentic AI pu\\xF2 migliorare il processo decisionale in ambito finanziario\\\n",
      "  \\ fornendo analisi predittive avanzate, automatizzando la valutazione di scenari\\\n",
      "  \\ complessi e suggerendo azioni ottimali basate su grandi volumi di dati in tempo\\\n",
      "  \\ reale. Grazie alla capacit\\xE0 di apprendere autonomamente e di adattarsi a nuove\\\n",
      "  \\ informazioni, pu\\xF2 identificare pattern di mercato, valutare rischi e opportunit\\xE0\\\n",
      "  , ottimizzare portafogli e supportare decisioni di investimento pi\\xF9 informate\\\n",
      "  \\ e tempestive.\"\n",
      "justification: \"Questa risposta \\xE8 dedotta dal contesto della domanda, che richiede\\\n",
      "  \\ una spiegazione su come l'Agentic AI possa potenziare le decisioni finanziarie.\\\n",
      "  \\ Si evidenziano le principali funzionalit\\xE0 dell'AI agentica (analisi predittiva,\\\n",
      "  \\ automazione, apprendimento continuo) e il loro impatto specifico sul settore finanziario\\\n",
      "  \\ (valutazione dei rischi, ottimizzazione dei portafogli, risposta in tempo reale).\"\n",
      "confidence: 0.96\n",
      "\n",
      "\n"
     ]
    }
   ],
   "source": [
    "questions_answering_ag=AG(atype=Answer,\n",
    "                          llm=AG.get_llm_provider(\"watsonx\"),\n",
    "                          instructions= \"Answer in italian\")\n",
    "\n",
    "print((await (questions_answering_ag << questions)).pretty_print())\n"
   ]
  }
 ],
 "metadata": {
  "kernelspec": {
   "display_name": ".venv",
   "language": "python",
   "name": "python3"
  },
  "language_info": {
   "codemirror_mode": {
    "name": "ipython",
    "version": 3
   },
   "file_extension": ".py",
   "mimetype": "text/x-python",
   "name": "python",
   "nbconvert_exporter": "python",
   "pygments_lexer": "ipython3",
   "version": "3.12.9"
  }
 },
 "nbformat": 4,
 "nbformat_minor": 5
}
